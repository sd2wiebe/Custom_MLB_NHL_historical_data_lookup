{
 "cells": [
  {
   "cell_type": "markdown",
   "id": "eda2b68c",
   "metadata": {},
   "source": [
    "# MLB/NHL result search by team/date"
   ]
  },
  {
   "cell_type": "code",
   "execution_count": 1,
   "id": "7bc0169f",
   "metadata": {},
   "outputs": [],
   "source": [
    "# import libraries\n",
    "import requests  \n",
    "from datetime import date as dt\n",
    "from splinter import Browser\n",
    "\n",
    "from bs4 import BeautifulSoup as soup\n",
    "import pandas as pd\n",
    "from datetime import date, timedelta\n",
    "from webdriver_manager.chrome import ChromeDriverManager\n",
    "import time\n",
    "import re "
   ]
  },
  {
   "cell_type": "code",
   "execution_count": 6,
   "id": "0511c36d",
   "metadata": {},
   "outputs": [],
   "source": [
    "def Did_They_win():\n",
    "    print(\"Which Sport? Baseball/Hockey\")\n",
    "    sport = input()\n",
    "    print(\"What Team?\")\n",
    "    team = input()+\" \"\n",
    "    print(\"Please input year then Month then Day to retrive results\")\n",
    "    print(\"What year?\")\n",
    "    year = input()\n",
    "    print(\"Month 01-12\")\n",
    "    month = input()\n",
    "    print(\"Day? 01-31\")\n",
    "    day = input() \n",
    "    if sport == \"Baseball\":\n",
    "        sport = \"https://www.baseball-reference.com/boxes/?year=\"\n",
    "    else:\n",
    "        sport = \"https://www.hockey-reference.com/boxscores/?year=\"\n",
    "\n",
    "    executable_path = {'executable_path': ChromeDriverManager().install()}\n",
    "    browser = Browser('chrome', **executable_path, headless=True)\n",
    "    \n",
    "    url = f'{sport}{year}&month={month}&day={day}'\n",
    "    print(url)\n",
    "    browser.visit(url)\n",
    "    time.sleep(3)\n",
    "    html = browser.html\n",
    "    news_soup = soup(html, 'html.parser')\n",
    "    yes = news_soup.find(\"div\", {\"class\":\"game_summaries\"})\n",
    "#     yes = yes[1]\n",
    "    yes1 = yes.find_all(\"tr\", {\"class\":\"winner\"})\n",
    "    yes2 = yes.find_all(\"tr\", {\"class\":\"loser\"})\n",
    "    browser.quit()\n",
    "    losers = []\n",
    "    for y in yes2:\n",
    "        losers.append(y.text)\n",
    "        wha = [re.sub('\\s+', '', x) for x in losers]\n",
    "        wha1 = [re.sub(r'(\\w)([A-Z])', r'\\1 \\2', x) for x in wha]\n",
    "        wha2 = [re.sub('([0-9])', r\" \\1\", x) for x in wha1]\n",
    "        wha3 = [re.sub('  Final| Final|Final| OT| SO', \"\", x) for x in wha2]\n",
    "    winners = []\n",
    "    for y in yes1:\n",
    "        winners.append(y.text)\n",
    "        win = [re.sub('\\s+', '', x) for x in winners]\n",
    "        win1 = [re.sub(r'(\\w)([A-Z])', r'\\1 \\2', x) for x in win]\n",
    "        win2 = [re.sub('([0-9])', r\" \\1\", x) for x in win1]\n",
    "        win3 = [re.sub('  Final| Final|Final| OT| SO', \"\", x) for x in win2]\n",
    "    r1 = pd.DataFrame({\"winner\":[],\"Goals\":[]})\n",
    "    i = 1\n",
    "    for line in win3:\n",
    "        team1 = line[:-1]\n",
    "        goals = line[-1:]\n",
    "        r1.loc[i] = [team1, goals]\n",
    "        i = i+1\n",
    "    r2 = pd.DataFrame({\"loser\":[],\"Goals\":[]})\n",
    "    p = 1\n",
    "    for line in wha3:\n",
    "        team1 = line[:-1]\n",
    "        goals = line[-1:]\n",
    "        r2.loc[p] = [team1, goals]\n",
    "        p = p+1\n",
    "    kkkk = pd.DataFrame({\"Winning Team\":[],\"W score\":[], \"Losing Team\":[], \"L score\":[] })\n",
    "    kkkk[\"Winning Team\"] = r1[\"winner\"]\n",
    "    kkkk[\"Losing Team\"] = r2[\"loser\"]\n",
    "    kkkk[\"W score\"] = r1[\"Goals\"]\n",
    "    kkkk[\"L score\"] = r2[\"Goals\"]\n",
    "   \n",
    "    t = 1\n",
    "    while t <= len(kkkk[\"Winning Team\"]):\n",
    "        if kkkk[\"Winning Team\"][t] == team:\n",
    "            lgoals = kkkk['W score'][t]\n",
    "            ogoals = kkkk[\"L score\"][t]\n",
    "            lteam = kkkk[\"Losing Team\"][t]\n",
    "            print(f\"On {year}-{month}-{day} The {team}beat the {lteam} {lgoals} - {ogoals}\")\n",
    "            t = 2+ len(kkkk[\"Winning Team\"])\n",
    "        elif kkkk[\"Losing Team\"][t] == team:\n",
    "                lgoals = kkkk['W score'][t]                \n",
    "                ogoals = kkkk[\"L score\"][t]\n",
    "                lteam = kkkk[\"Winning Team\"][t]\n",
    "                print(f\"On {year}-{month}-{day} The {team}lost to the {lteam} {lgoals} - {ogoals}\")\n",
    "                t = 2 + len(kkkk[\"Winning Team\"])\n",
    "        else:\n",
    "            t = t+1\n",
    "    if t == 1 + len(kkkk[\"Winning Team\"]):\n",
    "        print(f\"{team}did not play that day\")"
   ]
  },
  {
   "cell_type": "markdown",
   "id": "c7abe6e5",
   "metadata": {},
   "source": [
    "## Program will prompt you for sport type, year, month and day, then give results"
   ]
  },
  {
   "cell_type": "code",
   "execution_count": 7,
   "id": "804466f1",
   "metadata": {},
   "outputs": [
    {
     "name": "stdout",
     "output_type": "stream",
     "text": [
      "Which Sport? Baseball/Hockey\n",
      "Hockey\n",
      "What Team?\n",
      "Washington Capitals\n",
      "Please input year then Month then Day to retrive results\n",
      "What year?\n",
      "2022\n",
      "Month 01-12\n",
      "04\n",
      "Day? 01-31\n",
      "18\n"
     ]
    },
    {
     "name": "stderr",
     "output_type": "stream",
     "text": [
      "\n",
      "\n",
      "====== WebDriver manager ======\n",
      "Current google-chrome version is 100.0.4896\n",
      "Get LATEST chromedriver version for 100.0.4896 google-chrome\n",
      "Driver [C:\\Users\\Owner\\.wdm\\drivers\\chromedriver\\win32\\100.0.4896.60\\chromedriver.exe] found in cache\n"
     ]
    },
    {
     "name": "stdout",
     "output_type": "stream",
     "text": [
      "https://www.hockey-reference.com/boxscores/?year=2022&month=04&day=18\n",
      "On 2022-04-18 The Washington Capitals beat the Colorado Avalanche  3 - 2\n"
     ]
    }
   ],
   "source": [
    "Did_They_win()"
   ]
  },
  {
   "cell_type": "code",
   "execution_count": 9,
   "id": "22e12330",
   "metadata": {},
   "outputs": [
    {
     "name": "stdout",
     "output_type": "stream",
     "text": [
      "Which Sport? Baseball/Hockey\n",
      "Baseball\n",
      "What Team?\n",
      "New York Mets\n",
      "Please input year then Month then Day to retrive results\n",
      "What year?\n",
      "2022\n",
      "Month 01-12\n",
      "04\n",
      "Day? 01-31\n",
      "18\n"
     ]
    },
    {
     "name": "stderr",
     "output_type": "stream",
     "text": [
      "\n",
      "\n",
      "====== WebDriver manager ======\n",
      "Current google-chrome version is 100.0.4896\n",
      "Get LATEST chromedriver version for 100.0.4896 google-chrome\n",
      "Driver [C:\\Users\\Owner\\.wdm\\drivers\\chromedriver\\win32\\100.0.4896.60\\chromedriver.exe] found in cache\n"
     ]
    },
    {
     "name": "stdout",
     "output_type": "stream",
     "text": [
      "https://www.baseball-reference.com/boxes/?year=2022&month=04&day=18\n",
      "New York Mets did not play that day\n"
     ]
    }
   ],
   "source": [
    "Did_They_win()\n"
   ]
  },
  {
   "cell_type": "code",
   "execution_count": 10,
   "id": "394d538b",
   "metadata": {},
   "outputs": [
    {
     "name": "stdout",
     "output_type": "stream",
     "text": [
      "Which Sport? Baseball/Hockey\n",
      "Baseball\n",
      "What Team?\n",
      "New York Mets\n",
      "Please input year then Month then Day to retrive results\n",
      "What year?\n",
      "2022\n",
      "Month 01-12\n",
      "04\n",
      "Day? 01-31\n",
      "17\n"
     ]
    },
    {
     "name": "stderr",
     "output_type": "stream",
     "text": [
      "\n",
      "\n",
      "====== WebDriver manager ======\n",
      "Current google-chrome version is 100.0.4896\n",
      "Get LATEST chromedriver version for 100.0.4896 google-chrome\n",
      "Driver [C:\\Users\\Owner\\.wdm\\drivers\\chromedriver\\win32\\100.0.4896.60\\chromedriver.exe] found in cache\n"
     ]
    },
    {
     "name": "stdout",
     "output_type": "stream",
     "text": [
      "https://www.baseball-reference.com/boxes/?year=2022&month=04&day=17\n",
      "On 2022-04-17 The New York Mets beat the Arizona Diamondbacks  5 - 0\n"
     ]
    }
   ],
   "source": [
    "Did_They_win()\n"
   ]
  },
  {
   "cell_type": "code",
   "execution_count": 11,
   "id": "8777661e",
   "metadata": {},
   "outputs": [
    {
     "name": "stdout",
     "output_type": "stream",
     "text": [
      "Which Sport? Baseball/Hockey\n",
      "Baseball\n",
      "What Team?\n",
      "New York Yankees\n",
      "Please input year then Month then Day to retrive results\n",
      "What year?\n",
      "2021\n",
      "Month 01-12\n",
      "08\n",
      "Day? 01-31\n",
      "25\n"
     ]
    },
    {
     "name": "stderr",
     "output_type": "stream",
     "text": [
      "\n",
      "\n",
      "====== WebDriver manager ======\n",
      "Current google-chrome version is 100.0.4896\n",
      "Get LATEST chromedriver version for 100.0.4896 google-chrome\n",
      "Driver [C:\\Users\\Owner\\.wdm\\drivers\\chromedriver\\win32\\100.0.4896.60\\chromedriver.exe] found in cache\n"
     ]
    },
    {
     "name": "stdout",
     "output_type": "stream",
     "text": [
      "https://www.baseball-reference.com/boxes/?year=2021&month=08&day=25\n",
      "New York Yankees did not play that day\n"
     ]
    }
   ],
   "source": [
    "Did_They_win()\n"
   ]
  },
  {
   "cell_type": "code",
   "execution_count": 12,
   "id": "c2ee5318",
   "metadata": {},
   "outputs": [
    {
     "name": "stdout",
     "output_type": "stream",
     "text": [
      "Which Sport? Baseball/Hockey\n",
      "Baseball\n",
      "What Team?\n",
      "New York Yankees\n",
      "Please input year then Month then Day to retrive results\n",
      "What year?\n",
      "2021\n",
      "Month 01-12\n",
      "08\n",
      "Day? 01-31\n",
      "24\n"
     ]
    },
    {
     "name": "stderr",
     "output_type": "stream",
     "text": [
      "\n",
      "\n",
      "====== WebDriver manager ======\n",
      "Current google-chrome version is 100.0.4896\n",
      "Get LATEST chromedriver version for 100.0.4896 google-chrome\n",
      "Driver [C:\\Users\\Owner\\.wdm\\drivers\\chromedriver\\win32\\100.0.4896.60\\chromedriver.exe] found in cache\n"
     ]
    },
    {
     "name": "stdout",
     "output_type": "stream",
     "text": [
      "https://www.baseball-reference.com/boxes/?year=2021&month=08&day=24\n",
      "On 2021-08-24 The New York Yankees beat the Atlanta Braves  5 - 4\n"
     ]
    }
   ],
   "source": [
    "Did_They_win()\n"
   ]
  },
  {
   "cell_type": "code",
   "execution_count": 13,
   "id": "f40ee400",
   "metadata": {},
   "outputs": [
    {
     "name": "stdout",
     "output_type": "stream",
     "text": [
      "Which Sport? Baseball/Hockey\n",
      "Baseball\n",
      "What Team?\n",
      "New York Yankees\n",
      "Please input year then Month then Day to retrive results\n",
      "What year?\n",
      "2015\n",
      "Month 01-12\n",
      "07\n",
      "Day? 01-31\n",
      "23\n"
     ]
    },
    {
     "name": "stderr",
     "output_type": "stream",
     "text": [
      "\n",
      "\n",
      "====== WebDriver manager ======\n",
      "Current google-chrome version is 100.0.4896\n",
      "Get LATEST chromedriver version for 100.0.4896 google-chrome\n",
      "Driver [C:\\Users\\Owner\\.wdm\\drivers\\chromedriver\\win32\\100.0.4896.60\\chromedriver.exe] found in cache\n"
     ]
    },
    {
     "name": "stdout",
     "output_type": "stream",
     "text": [
      "https://www.baseball-reference.com/boxes/?year=2015&month=07&day=23\n",
      "On 2015-07-23 The New York Yankees beat the Baltimore Orioles  9 - 3\n"
     ]
    }
   ],
   "source": [
    "Did_They_win()\n"
   ]
  },
  {
   "cell_type": "code",
   "execution_count": 14,
   "id": "d36fb831",
   "metadata": {},
   "outputs": [
    {
     "name": "stdout",
     "output_type": "stream",
     "text": [
      "Which Sport? Baseball/Hockey\n",
      "Hockey\n",
      "What Team?\n",
      "Atlanta Thrashers\n",
      "Please input year then Month then Day to retrive results\n",
      "What year?\n",
      "2006\n",
      "Month 01-12\n",
      "03\n",
      "Day? 01-31\n",
      "23\n"
     ]
    },
    {
     "name": "stderr",
     "output_type": "stream",
     "text": [
      "\n",
      "\n",
      "====== WebDriver manager ======\n",
      "Current google-chrome version is 100.0.4896\n",
      "Get LATEST chromedriver version for 100.0.4896 google-chrome\n",
      "Driver [C:\\Users\\Owner\\.wdm\\drivers\\chromedriver\\win32\\100.0.4896.60\\chromedriver.exe] found in cache\n"
     ]
    },
    {
     "name": "stdout",
     "output_type": "stream",
     "text": [
      "https://www.hockey-reference.com/boxscores/?year=2006&month=03&day=23\n",
      "On 2006-03-23 The Atlanta Thrashers beat the New Jersey Devils  6 - 5\n"
     ]
    }
   ],
   "source": [
    "Did_They_win()\n"
   ]
  },
  {
   "cell_type": "code",
   "execution_count": 15,
   "id": "d0c71365",
   "metadata": {},
   "outputs": [
    {
     "name": "stdout",
     "output_type": "stream",
     "text": [
      "Which Sport? Baseball/Hockey\n",
      "Hockey\n",
      "What Team?\n",
      "Quebec Nordiques\n",
      "Please input year then Month then Day to retrive results\n",
      "What year?\n",
      "1973\n",
      "Month 01-12\n",
      "03\n",
      "Day? 01-31\n",
      "23\n"
     ]
    },
    {
     "name": "stderr",
     "output_type": "stream",
     "text": [
      "\n",
      "\n",
      "====== WebDriver manager ======\n",
      "Current google-chrome version is 100.0.4896\n",
      "Get LATEST chromedriver version for 100.0.4896 google-chrome\n",
      "Driver [C:\\Users\\Owner\\.wdm\\drivers\\chromedriver\\win32\\100.0.4896.60\\chromedriver.exe] found in cache\n"
     ]
    },
    {
     "name": "stdout",
     "output_type": "stream",
     "text": [
      "https://www.hockey-reference.com/boxscores/?year=1973&month=03&day=23\n",
      "Quebec Nordiques did not play that day\n"
     ]
    }
   ],
   "source": [
    "Did_They_win()\n"
   ]
  },
  {
   "cell_type": "code",
   "execution_count": 17,
   "id": "f7ebd52f",
   "metadata": {},
   "outputs": [
    {
     "name": "stdout",
     "output_type": "stream",
     "text": [
      "Which Sport? Baseball/Hockey\n",
      "Hockey\n",
      "What Team?\n",
      "Quebec Nordiques\n",
      "Please input year then Month then Day to retrive results\n",
      "What year?\n",
      "1980\n",
      "Month 01-12\n",
      "03\n",
      "Day? 01-31\n",
      "23\n"
     ]
    },
    {
     "name": "stderr",
     "output_type": "stream",
     "text": [
      "\n",
      "\n",
      "====== WebDriver manager ======\n",
      "Current google-chrome version is 100.0.4896\n",
      "Get LATEST chromedriver version for 100.0.4896 google-chrome\n",
      "Driver [C:\\Users\\Owner\\.wdm\\drivers\\chromedriver\\win32\\100.0.4896.60\\chromedriver.exe] found in cache\n"
     ]
    },
    {
     "name": "stdout",
     "output_type": "stream",
     "text": [
      "https://www.hockey-reference.com/boxscores/?year=1980&month=03&day=23\n",
      "On 1980-03-23 The Quebec Nordiques beat the Vancouver Canucks  6 - 2\n"
     ]
    }
   ],
   "source": [
    "Did_They_win()"
   ]
  },
  {
   "cell_type": "code",
   "execution_count": null,
   "id": "f1be03f5",
   "metadata": {},
   "outputs": [],
   "source": []
  }
 ],
 "metadata": {
  "kernelspec": {
   "display_name": "Python 3 (ipykernel)",
   "language": "python",
   "name": "python3"
  },
  "language_info": {
   "codemirror_mode": {
    "name": "ipython",
    "version": 3
   },
   "file_extension": ".py",
   "mimetype": "text/x-python",
   "name": "python",
   "nbconvert_exporter": "python",
   "pygments_lexer": "ipython3",
   "version": "3.10.4"
  }
 },
 "nbformat": 4,
 "nbformat_minor": 5
}
